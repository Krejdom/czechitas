{
 "cells": [
  {
   "cell_type": "markdown",
   "metadata": {},
   "source": [
    "# 3 Slovníky a cykly\n",
    "http://nove.kodim.cz/czechitas/progr2-python/zaklady-programovani-2/slovniky-a-cykly/#slovniky-a-cykly"
   ]
  },
  {
   "cell_type": "markdown",
   "metadata": {},
   "source": [
    "## 3.1 Čtenářský deník"
   ]
  },
  {
   "cell_type": "code",
   "execution_count": 1,
   "metadata": {},
   "outputs": [
    {
     "name": "stdout",
     "output_type": "stream",
     "text": [
      "3377\n",
      "3\n"
     ]
    }
   ],
   "source": [
    "books = [\n",
    "    {\"title\": \"Vražda s příliš mnoha notami\", \"pages\": 450, \"rating\": 5},\n",
    "    {\"title\": \"Vražda podle knihy\", \"pages\": 524, \"rating\": 9},\n",
    "    {\"title\": \"Past\", \"pages\": 390, \"rating\": 4},\n",
    "    {\"title\": \"Popel popelu\", \"pages\": 411, \"rating\": 10},\n",
    "    {\"title\": \"Noc, která mě zabila\", \"pages\": 159, \"rating\": 7},\n",
    "    {\"title\": \"Vražda, kouř a stíny\", \"pages\": 258, \"rating\": 6},\n",
    "    {\"title\": \"Zločinný steh\", \"pages\": 542, \"rating\": 8},\n",
    "    {\"title\": \"Zkus mě chytit\", \"pages\": 247, \"rating\": 7},\n",
    "    {\"title\": \"Vrah zavolá v deset\", \"pages\": 396, \"rating\": 6},\n",
    "]\n",
    "pages_count = 0\n",
    "good_books = 0\n",
    "\n",
    "for book in books:\n",
    "    pages_count += book[\"pages\"]\n",
    "\n",
    "    if book[\"rating\"] >= 8:\n",
    "        good_books += 1\n",
    "\n",
    "print(pages_count)\n",
    "print(good_books)"
   ]
  },
  {
   "cell_type": "markdown",
   "metadata": {},
   "source": [
    "## 3.2 Vysvědčení"
   ]
  },
  {
   "cell_type": "code",
   "execution_count": 2,
   "metadata": {},
   "outputs": [
    {
     "name": "stdout",
     "output_type": "stream",
     "text": [
      "Český jazyk\n",
      "Anglický jazyk\n",
      "Matematika\n",
      "Dějepis\n",
      "2.1\n"
     ]
    }
   ],
   "source": [
    "schoolReport = {\n",
    "  \"Český jazyk\": 1,\n",
    "  \"Anglický jazyk\": 1, \n",
    "  \"Matematika\": 1, \n",
    "  \"Přírodopis\": 2,\n",
    "  \"Dějepis\": 1,\n",
    "  \"Fyzika\": 2,\n",
    "  \"Hudební výchova\": 4,\n",
    "  \"Výtvarná výchova\": 2,\n",
    "  \"Tělešná výchova\": 3,\n",
    "  \"Chemie\": 4,\n",
    "}\n",
    "\n",
    "total = 0\n",
    "for course, znamka in schoolReport.items():\n",
    "    total += znamka\n",
    "\n",
    "    if znamka == 1:\n",
    "        print(course)\n",
    "\n",
    "prumerna_znamka = total / len(schoolReport)\n",
    "print(prumerna_znamka)"
   ]
  },
  {
   "cell_type": "markdown",
   "metadata": {},
   "source": [
    "## 3.3 Poznávací značky"
   ]
  },
  {
   "cell_type": "code",
   "execution_count": 3,
   "metadata": {},
   "outputs": [
    {
     "name": "stdout",
     "output_type": "stream",
     "text": [
      "Jana Pilná\n",
      "Marta Nováková\n"
     ]
    }
   ],
   "source": [
    "books = {\"4A2 3000\": \"František Novák\", \n",
    "  \"6P5 4747\": \"Jana Pilná\",\n",
    "  \"3B7 3652\": \"Jaroslav Sečkár\", \n",
    "  \"1P5 5269\": \"Marta Nováková\", \n",
    "  \"37E 1252\": \"Martina Matušková\",\n",
    "  \"2A5 2241\": \"Jan Král\"}\n",
    "\n",
    "for spz, driver in books.items():\n",
    "    if spz[1] == \"P\":\n",
    "        print(driver)"
   ]
  }
 ],
 "metadata": {
  "kernelspec": {
   "display_name": "Python 3",
   "language": "python",
   "name": "python3"
  },
  "language_info": {
   "codemirror_mode": {
    "name": "ipython",
    "version": 3
   },
   "file_extension": ".py",
   "mimetype": "text/x-python",
   "name": "python",
   "nbconvert_exporter": "python",
   "pygments_lexer": "ipython3",
   "version": "3.7.0"
  }
 },
 "nbformat": 4,
 "nbformat_minor": 2
}
