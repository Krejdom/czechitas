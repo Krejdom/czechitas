{
 "cells": [
  {
   "cell_type": "markdown",
   "metadata": {},
   "source": [
    "# 5 Třídy a obejkty\n",
    "http://nove.kodim.cz/czechitas/progr2-python/zaklady-programovani-2/tridy/#objekty-a-tridy"
   ]
  },
  {
   "cell_type": "markdown",
   "metadata": {},
   "source": [
    "## 5.1 Kniha"
   ]
  },
  {
   "cell_type": "code",
   "execution_count": 13,
   "metadata": {},
   "outputs": [
    {
     "name": "stdout",
     "output_type": "stream",
     "text": [
      "Kniha Pýcha a předsudek má 200 stran a stojí 100 Kč.\n",
      "Kniha Pýcha a předsudek má 200 stran a stojí 90.0 Kč.\n"
     ]
    }
   ],
   "source": [
    "class Book:\n",
    "    def __init__(self, title, pages, price):\n",
    "        self.title = title\n",
    "        self.pages = pages\n",
    "        self.price = price\n",
    "\n",
    "    def get_info(self):\n",
    "        print(\"Kniha\", self.title, \"má\", self.pages, \"stran a stojí\", self.price, \"Kč.\")\n",
    "\n",
    "    def discount(self, amount):\n",
    "        self.price = self.price * (1 - amount / 100)\n",
    "    \n",
    "book = Book(\"Pýcha a předsudek\", 200, 100)\n",
    "book.get_info()\n",
    "\n",
    "book.discount(10)\n",
    "book.get_info()"
   ]
  },
  {
   "cell_type": "markdown",
   "metadata": {},
   "source": [
    "## 5.2 Balík"
   ]
  },
  {
   "cell_type": "code",
   "execution_count": 16,
   "metadata": {},
   "outputs": [
    {
     "name": "stdout",
     "output_type": "stream",
     "text": [
      "Balík zasílaný na adresu Uliční 1 byl doručen.\n",
      "Váží 53 kg.\n"
     ]
    }
   ],
   "source": [
    "class Package:\n",
    "    def __init__(self, address, weightInKilos):\n",
    "        self.address = address\n",
    "        self.weightInKilos = weightInKilos\n",
    "        self.delivered = False\n",
    "\n",
    "    def deliver(self):\n",
    "        self.delivered = True\n",
    "\n",
    "    def getInfo(self):\n",
    "        print(\"Balík zasílaný na adresu\", self.address, end=\" \")\n",
    "        if self.delivered:\n",
    "            print(\"byl doručen.\")\n",
    "        else:\n",
    "            print(\"nebyl doručen.\")\n",
    "        print(\"Váží\", self.weightInKilos, \"kg.\")\n",
    "\n",
    "gift1 = Package(\"Uliční 1\", 53)\n",
    "gift1.deliver()\n",
    "gift1.getInfo()"
   ]
  },
  {
   "cell_type": "markdown",
   "metadata": {},
   "source": [
    "## 5.3 Zkušební doba"
   ]
  },
  {
   "cell_type": "code",
   "execution_count": 27,
   "metadata": {},
   "outputs": [
    {
     "name": "stdout",
     "output_type": "stream",
     "text": [
      "Petr pracuje na pozici prodavač.\n",
      "Vašek pracuje na pozici prodavač. Je ve zkušební době.\n"
     ]
    }
   ],
   "source": [
    "class Employee:\n",
    "    def __init__(self, name, position, probation):\n",
    "        self.name = name\n",
    "        self.position = position\n",
    "        self.probation = probation\n",
    "\n",
    "    def get_info(self):\n",
    "        info = f\"{self.name} pracuje na pozici {self.position}.\"\n",
    "        if self.probation:\n",
    "            info += \" Je ve zkušební době.\"\n",
    "        print(info)\n",
    "\n",
    "old_employee = Employee(\"Petr\", \"prodavač\", False)\n",
    "old_employee.get_info()\n",
    "\n",
    "new_employee = Employee(\"Vašek\", \"prodavač\", True)\n",
    "new_employee.get_info()"
   ]
  }
 ],
 "metadata": {
  "kernelspec": {
   "display_name": "Python 3",
   "language": "python",
   "name": "python3"
  },
  "language_info": {
   "codemirror_mode": {
    "name": "ipython",
    "version": 3
   },
   "file_extension": ".py",
   "mimetype": "text/x-python",
   "name": "python",
   "nbconvert_exporter": "python",
   "pygments_lexer": "ipython3",
   "version": "3.7.0"
  }
 },
 "nbformat": 4,
 "nbformat_minor": 2
}
