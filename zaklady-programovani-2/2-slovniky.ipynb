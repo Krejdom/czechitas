{
 "cells": [
  {
   "cell_type": "markdown",
   "metadata": {},
   "source": [
    "# 2 Slovníky\n",
    "http://nove.kodim.cz/czechitas/progr2-python/zaklady-programovani-2/slovniky/#slovniky"
   ]
  },
  {
   "cell_type": "markdown",
   "metadata": {},
   "source": [
    "## 2.1 Vysvědčení"
   ]
  },
  {
   "cell_type": "code",
   "execution_count": 1,
   "metadata": {},
   "outputs": [
    {
     "name": "stdout",
     "output_type": "stream",
     "text": [
      "{'český jazyk': 1, 'matematika': 2, 'dějepis': 3}\n"
     ]
    }
   ],
   "source": [
    "vysvedceni = {\"český jazyk\": 1,\n",
    "              \"matematika\": 2,\n",
    "              \"dějepis\": 3}\n",
    "\n",
    "print(vysvedceni)"
   ]
  },
  {
   "cell_type": "markdown",
   "metadata": {},
   "source": [
    "## 2.2 Detektivky"
   ]
  },
  {
   "cell_type": "code",
   "execution_count": 3,
   "metadata": {},
   "outputs": [
    {
     "name": "stdout",
     "output_type": "stream",
     "text": [
      "{'Zkus mě chytit': 4165, 'Vrah zavolá v deset': 5781, 'Zločinný steh': 2565, 'Noc, která mě zabila': 0}\n"
     ]
    }
   ],
   "source": [
    "sales = {\n",
    "    \"Zkus mě chytit\": 4165,\n",
    "    \"Vrah zavolá v deset\": 5681,\n",
    "    \"Zločinný steh\": 2565,\n",
    "}\n",
    "\n",
    "sales[\"Noc, která mě zabila\"] = 0\n",
    "sales[\"Vrah zavolá v deset\"] += 100\n",
    "\n",
    "print(sales)"
   ]
  },
  {
   "cell_type": "markdown",
   "metadata": {},
   "source": [
    "## 2.3 Tombola"
   ]
  },
  {
   "cell_type": "code",
   "execution_count": 9,
   "metadata": {},
   "outputs": [
    {
     "name": "stdout",
     "output_type": "stream",
     "text": [
      "Zadej číslo lístku: 6\n",
      "Bohužel nevyhráváš nic.\n"
     ]
    }
   ],
   "source": [
    "tombola = {\n",
    "    7: \"Láhev kvalitního vína Château Headache\",\n",
    "    15: \"Pytel brambor z místního družstva\",\n",
    "    23: \"Čokoládový dort\",\n",
    "    47: \"Kniha o historii města\",\n",
    "    55: \"Šiška salámu\",\n",
    "    67: \"Vyhlídkový let balónem\",\n",
    "    79: \"Moderní televizor\",\n",
    "    91: \"Roční předplatné městského zpravodaje\",\n",
    "    93: \"Společenská hra Sázky a dostihy\",\n",
    "}\n",
    "\n",
    "cislo_listku = int(input(\"Zadej číslo lístku: \"))\n",
    "\n",
    "if cislo_listku not in tombola:\n",
    "    print(\"Bohužel nevyhráváš nic.\")\n",
    "else:\n",
    "    print(tombola[cislo_listku])\n",
    "    tombola.pop(cislo_listku)"
   ]
  },
  {
   "cell_type": "markdown",
   "metadata": {},
   "source": [
    "## 2.4 Paranoidní večírek."
   ]
  },
  {
   "cell_type": "code",
   "execution_count": 6,
   "metadata": {},
   "outputs": [
    {
     "name": "stdout",
     "output_type": "stream",
     "text": [
      "Vaše jméno prosím: Dominika\n",
      "Bohužel, nejste na seznamu hostů!\n"
     ]
    }
   ],
   "source": [
    "passwords = {\"Jiří\": \"tajne-heslo\", \"Natálie\": \"jeste-tajnejsi-heslo\", \"Klára\": \"nejtajnejsi-heslo\"}\n",
    "\n",
    "jmeno = input(\"Vaše jméno prosím: \")\n",
    "if jmeno not in passwords:\n",
    "    print(\"Bohužel, nejste na seznamu hostů!\")\n",
    "else:\n",
    "    heslo = input(\"Jaké je heslo? \")\n",
    "    if passwords[jmeno] == heslo:\n",
    "        print(\"Račte dál!\")\n",
    "    else:\n",
    "        print(\"Heslo je špatně!\")"
   ]
  }
 ],
 "metadata": {
  "kernelspec": {
   "display_name": "Python 3",
   "language": "python",
   "name": "python3"
  },
  "language_info": {
   "codemirror_mode": {
    "name": "ipython",
    "version": 3
   },
   "file_extension": ".py",
   "mimetype": "text/x-python",
   "name": "python",
   "nbconvert_exporter": "python",
   "pygments_lexer": "ipython3",
   "version": "3.7.0"
  }
 },
 "nbformat": 4,
 "nbformat_minor": 2
}
