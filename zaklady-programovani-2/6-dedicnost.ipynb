{
 "cells": [
  {
   "cell_type": "markdown",
   "metadata": {},
   "source": [
    "# 6 Dědičnost\n",
    "http://nove.kodim.cz/czechitas/progr2-python/zaklady-programovani-2/dedicnost/#priklady-na-dedicnost"
   ]
  },
  {
   "cell_type": "markdown",
   "metadata": {},
   "source": [
    "## 6.1 Balík"
   ]
  },
  {
   "cell_type": "code",
   "execution_count": 9,
   "metadata": {},
   "outputs": [
    {
     "name": "stdout",
     "output_type": "stream",
     "text": [
      "Balík zasílaný na adresu Uliční 1 nebyl doručen.\n",
      "Váží 60 kg.\n",
      "Balík zasílaný na adresu Uliční 1 byl doručen.\n",
      "Váží 60 kg.\n"
     ]
    }
   ],
   "source": [
    "class Package:\n",
    "    def __init__(self, address, weight):\n",
    "        self.address = address\n",
    "        self.weight = weight\n",
    "        self.delivered = False\n",
    "\n",
    "    def deliver(self):\n",
    "        self.delivered = True\n",
    "\n",
    "    def get_info(self):\n",
    "        print(\"Balík zasílaný na adresu\", self.address, end=\" \")\n",
    "        if self.delivered:\n",
    "            print(\"byl doručen.\")\n",
    "        else:\n",
    "            print(\"nebyl doručen.\")\n",
    "        print(\"Váží\", self.weight, \"kg.\")\n",
    "\n",
    "\n",
    "class ValuablePackage(Package):\n",
    "    def __init__(self, address, weight, value):\n",
    "        super().__init__(address, weight)\n",
    "        self.value = value\n",
    "\n",
    "valuable_package1 = ValuablePackage(\"Uliční 1\", 60, 50000)\n",
    "valuable_package1.get_info()\n",
    "valuable_package1.deliver()\n",
    "valuable_package1.get_info()"
   ]
  },
  {
   "cell_type": "markdown",
   "metadata": {},
   "source": [
    "## 6.2 Částečný úvazek"
   ]
  },
  {
   "cell_type": "code",
   "execution_count": 24,
   "metadata": {},
   "outputs": [
    {
     "name": "stdout",
     "output_type": "stream",
     "text": [
      "Adam pracuje na pozici assistant. Je ve zkušební době. Má 0.5 úvazek.\n"
     ]
    }
   ],
   "source": [
    "class Employee:\n",
    "    def __init__(self, name, position, probation):\n",
    "        self.name = name\n",
    "        self.position = position\n",
    "        self.probation = probation\n",
    "\n",
    "    def get_info(self):\n",
    "        info = f\"{self.name} pracuje na pozici {self.position}.\"\n",
    "        if self.probation:\n",
    "            info += \" Je ve zkušební době.\"\n",
    "        print(info)\n",
    "\n",
    "class PartTimeEmployee(Employee):\n",
    "    def __init__(self, name, position, probation, workload):\n",
    "        super().__init__(name, position, probation)\n",
    "        self.workload = workload\n",
    "\n",
    "    def get_info(self):\n",
    "        super().get_info\n",
    "        info = f\"{self.name} pracuje na pozici {self.position}.\"\n",
    "        if self.probation:\n",
    "            info += \" Je ve zkušební době.\"\n",
    "        info += \" Má \" + str(self.workload) + \" úvazek.\"\n",
    "        print(info)\n",
    "\n",
    "partime_worker = PartTimeEmployee(\"Adam\", \"assistant\", True, 0.5)\n",
    "partime_worker.get_info()"
   ]
  },
  {
   "cell_type": "markdown",
   "metadata": {},
   "source": [
    "## 6.3 Řidič"
   ]
  },
  {
   "cell_type": "code",
   "execution_count": 23,
   "metadata": {},
   "outputs": [
    {
     "name": "stdout",
     "output_type": "stream",
     "text": [
      "0\n",
      "2\n",
      "1\n"
     ]
    }
   ],
   "source": [
    "class Driver():\n",
    "    def __init__(self, name):\n",
    "        self.name = name\n",
    "        self.package_list = []\n",
    "\n",
    "    def assign_package(self, package):\n",
    "        if package.delivered:\n",
    "            print(\"Nelze přiřadit, balík již byl doručen.\")\n",
    "        else:\n",
    "            self.package_list.append(package)\n",
    "\n",
    "    def remaining_packages(self):\n",
    "        undelivered = 0\n",
    "        for package in self.package_list:\n",
    "            if not package.delivered:\n",
    "                undelivered += 1\n",
    "        return undelivered\n",
    "\n",
    "bob = Driver(\"Bob\")\n",
    "print(bob.remaining_packages())\n",
    "\n",
    "bob.assign_package(Package(\"Chlební 10\", 2))\n",
    "bob.assign_package(Package(\"Houskova 3\", 3))\n",
    "print(bob.remaining_packages())\n",
    "\n",
    "bob.package_list[0].deliver()\n",
    "print(bob.remaining_packages())"
   ]
  }
 ],
 "metadata": {
  "kernelspec": {
   "display_name": "Python 3",
   "language": "python",
   "name": "python3"
  },
  "language_info": {
   "codemirror_mode": {
    "name": "ipython",
    "version": 3
   },
   "file_extension": ".py",
   "mimetype": "text/x-python",
   "name": "python",
   "nbconvert_exporter": "python",
   "pygments_lexer": "ipython3",
   "version": "3.7.0"
  }
 },
 "nbformat": 4,
 "nbformat_minor": 2
}
