{
 "cells": [
  {
   "cell_type": "markdown",
   "metadata": {},
   "source": [
    "# 4 Funkce\n",
    "http://nove.kodim.cz/czechitas/progr2-python/zaklady-programovani-2/funkce/#funkce"
   ]
  },
  {
   "cell_type": "markdown",
   "metadata": {},
   "source": [
    "## 4.1 Násobení"
   ]
  },
  {
   "cell_type": "code",
   "execution_count": 6,
   "metadata": {},
   "outputs": [],
   "source": [
    "def mult(number1, number2):\n",
    "    return number1 * number2"
   ]
  },
  {
   "cell_type": "markdown",
   "metadata": {},
   "source": [
    "## 4.2 Hotel"
   ]
  },
  {
   "cell_type": "code",
   "execution_count": 5,
   "metadata": {},
   "outputs": [
    {
     "name": "stdout",
     "output_type": "stream",
     "text": [
      "1700\n",
      "1950\n"
     ]
    }
   ],
   "source": [
    "def totalPrice(persons, breakfast=False):\n",
    "    if breakfast:\n",
    "        return persons * (125 + 850)\n",
    "    else:\n",
    "        return persons * 850\n",
    "\n",
    "print(totalPrice(2))\n",
    "print(totalPrice(2, True))"
   ]
  },
  {
   "cell_type": "markdown",
   "metadata": {},
   "source": [
    "## 4.3 Měsíc narození"
   ]
  },
  {
   "cell_type": "code",
   "execution_count": 3,
   "metadata": {},
   "outputs": [
    {
     "name": "stdout",
     "output_type": "stream",
     "text": [
      "7\n",
      "5\n"
     ]
    }
   ],
   "source": [
    "def monthOfBirth(birth_number):\n",
    "    month_part = (birth_number // 1000000) % 100\n",
    "    if month_part > 50:\n",
    "        return month_part - 50\n",
    "    return month_part \n",
    "\n",
    "print(monthOfBirth(9207054439))    # 7\n",
    "print(monthOfBirth(9555125899))    # 5"
   ]
  },
  {
   "cell_type": "markdown",
   "metadata": {},
   "source": [
    "## 4.4 Ruleta"
   ]
  },
  {
   "cell_type": "code",
   "execution_count": 4,
   "metadata": {},
   "outputs": [
    {
     "name": "stdout",
     "output_type": "stream",
     "text": [
      "Kam chceš vsadit? (1/2/3): 2\n",
      "Kolik sázíš? 5\n",
      "Padlo číslo:  23\n",
      "10\n"
     ]
    }
   ],
   "source": [
    "from random import randint\n",
    "\n",
    "\n",
    "def roulette(row, money):\n",
    "    number = randint(0, 36)\n",
    "    print(\"Padlo číslo: \", number)\n",
    "    if number % 3 == row % 3 and money != 0:\n",
    "        return money * 2\n",
    "    return 0\n",
    "\n",
    "row = int(input(\"Kam chceš vsadit? (1/2/3): \"))\n",
    "money = int(input(\"Kolik sázíš? \"))\n",
    "print(roulette(row, money))"
   ]
  }
 ],
 "metadata": {
  "kernelspec": {
   "display_name": "Python 3",
   "language": "python",
   "name": "python3"
  },
  "language_info": {
   "codemirror_mode": {
    "name": "ipython",
    "version": 3
   },
   "file_extension": ".py",
   "mimetype": "text/x-python",
   "name": "python",
   "nbconvert_exporter": "python",
   "pygments_lexer": "ipython3",
   "version": "3.7.0"
  }
 },
 "nbformat": 4,
 "nbformat_minor": 2
}
